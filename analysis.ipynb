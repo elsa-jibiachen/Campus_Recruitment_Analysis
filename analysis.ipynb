{
 "cells": [
  {
   "cell_type": "markdown",
   "metadata": {},
   "source": [
    "# **Data analysis**"
   ]
  },
  {
   "cell_type": "markdown",
   "metadata": {},
   "source": [
    "Attribute selected for evaluation: **ssc_p**"
   ]
  },
  {
   "cell_type": "markdown",
   "metadata": {},
   "source": [
    "## Measures of central tendency and dispersion"
   ]
  },
  {
   "cell_type": "code",
   "execution_count": 12,
   "metadata": {},
   "outputs": [
    {
     "name": "stdout",
     "output_type": "stream",
     "text": [
      "Measures of Central Tendency:\n",
      "Mean (Average): 67.30339534883721\n",
      "Median (Middle Value): 67.0\n",
      "Mode (Most Frequently Occurring Value): 62.0\n",
      "\n",
      "Measures of Dispersion:\n",
      "Variance: 116.68312847160627\n",
      "Standard Deviation: 10.801996503961954\n",
      "1st quartile: 60.599999999999994\n",
      "3rd quartile: 75.7\n"
     ]
    }
   ],
   "source": [
    "import pandas as pd\n",
    "import numpy as np\n",
    "\n",
    "df= pd.read_csv('Placement_Data_Full_Class.csv')\n",
    "ssc_p_data = df['ssc_p']\n",
    "\n",
    "mean_ssc_p = np.mean(ssc_p_data)\n",
    "median_ssc_p = np.median(ssc_p_data)\n",
    "mode_ssc_p = ssc_p_data.mode().iloc[0]\n",
    "\n",
    "variance_ssc_p = np.var(ssc_p_data)\n",
    "std_deviation_ssc_p = np.std(ssc_p_data)\n",
    "ssc_p_1qr = np.percentile(ssc_p_data, 25)\n",
    "ssc_p_3qr = np.percentile(ssc_p_data, 75)\n",
    "\n",
    "print(\"Measures of Central Tendency:\")\n",
    "print(f\"Mean (Average): {mean_ssc_p}\")\n",
    "print(f\"Median (Middle Value): {median_ssc_p}\")\n",
    "print(\"Mode (Most Frequently Occurring Value):\", mode_ssc_p)\n",
    "\n",
    "print(\"\\nMeasures of Dispersion:\")\n",
    "print(f\"Variance: {variance_ssc_p}\")\n",
    "print(f\"Standard Deviation: {std_deviation_ssc_p}\")\n",
    "print(f\"1st quartile: {ssc_p_1qr}\")\n",
    "print(f\"3rd quartile: {ssc_p_3qr}\")"
   ]
  },
  {
   "cell_type": "markdown",
   "metadata": {},
   "source": [
    "## Visualization"
   ]
  },
  {
   "cell_type": "code",
   "execution_count": 13,
   "metadata": {},
   "outputs": [
    {
     "name": "stderr",
     "output_type": "stream",
     "text": [
      "C:\\Users\\elsaj\\AppData\\Local\\Temp\\ipykernel_8464\\4264303872.py:6: FutureWarning: \n",
      "\n",
      "Passing `palette` without assigning `hue` is deprecated and will be removed in v0.14.0. Assign the `x` variable to `hue` and set `legend=False` for the same effect.\n",
      "\n",
      "  sns.boxplot(x='status', y=column_name, data=df, palette={\"Placed\": \"green\", \"Not Placed\": \"red\"})\n"
     ]
    },
    {
     "data": {
      "image/png": "[encoded data removed]",
      "text/plain": [
       "<Figure size 800x600 with 1 Axes>"
      ]
     },
     "metadata": {},
     "output_type": "display_data"
    }
   ],
   "source": [
    "import matplotlib.pyplot as plt\n",
    "import seaborn as sns\n",
    "\n",
    "plt.figure(figsize=(8, 6))\n",
    "column_name = 'ssc_p'\n",
    "sns.boxplot(x='status', y=column_name, data=df, palette={\"Placed\": \"green\", \"Not Placed\": \"red\"})\n",
    "plt.title(f'Box Plot of {column_name}')\n",
    "plt.xlabel('Status')\n",
    "plt.ylabel(column_name)\n",
    "plt.show()"
   ]
  },
  {
   "cell_type": "markdown",
   "metadata": {},
   "source": [
    "## Data pre-processing"
   ]
  },
  {
   "cell_type": "markdown",
   "metadata": {},
   "source": [
    "Data cleaning: Handling missing values"
   ]
  },
  {
   "cell_type": "code",
   "execution_count": 14,
   "metadata": {},
   "outputs": [
    {
     "name": "stdout",
     "output_type": "stream",
     "text": [
      "Salary column with null values:\n",
      "67\n",
      "Salary column with null values after data cleaning:\n",
      "0\n"
     ]
    }
   ],
   "source": [
    "print('Salary column with null values:', df['salary'].isnull().sum(), sep = '\\n')\n",
    "df['salary'].fillna(value=0, inplace=True)\n",
    "print('Salary column with null values after data cleaning:',df['salary'].isnull().sum(), sep = '\\n')"
   ]
  },
  {
   "cell_type": "markdown",
   "metadata": {},
   "source": [
    "Data reduction: Recursive feature elimination"
   ]
  },
  {
   "cell_type": "code",
   "execution_count": 15,
   "metadata": {},
   "outputs": [
    {
     "name": "stdout",
     "output_type": "stream",
     "text": [
      "      feature_name  Importance\n",
      "1            ssc_p    0.293239\n",
      "3            hsc_p    0.219868\n",
      "6         degree_p    0.198425\n",
      "9          etest_p    0.102897\n",
      "8           workex    0.040265\n",
      "10  specialisation    0.033681\n",
      "0           gender    0.027817\n",
      "7         degree_t    0.027766\n",
      "5            hsc_s    0.020350\n",
      "2            ssc_b    0.019572\n",
      "4            hsc_b    0.016120\n"
     ]
    }
   ],
   "source": [
    "from sklearn.ensemble import RandomForestClassifier\n",
    "\n",
    "# removing the serial no. column from the dataset\n",
    "pl = df.iloc[:, 1:15]\n",
    "\n",
    "# cleaning the data by assigning integer values to categorical attributes\n",
    "pl['gender'].replace({\"F\":1, \"M\":0}, inplace = True)\n",
    "pl['ssc_b'].replace({\"Central\":1, \"Others\":0}, inplace = True)\n",
    "pl['hsc_b'].replace({\"Central\":1, \"Others\":0}, inplace = True)\n",
    "pl['hsc_s'].replace({\"Science\":2, \"Commerce\":1, \"Arts\":0}, inplace = True)\n",
    "pl['degree_t'].replace({\"Sci&Tech\":2, \"Comm&Mgmt\":1, \"Others\":0}, inplace = True)\n",
    "pl['workex'].replace({\"Yes\":1, \"No\":0}, inplace = True)\n",
    "pl['specialisation'].replace({\"Mkt&Fin\":1, \"Mkt&HR\":0}, inplace = True)\n",
    "pl['status'].replace({\"Placed\":1, \"Not Placed\":0}, inplace = True)\n",
    "\n",
    "# filling the missing values in the salary column - data cleaning\n",
    "pl['salary'].fillna(value=0, inplace=True)\n",
    "\n",
    "# assigning all the attributes to one variable and the target attribute to another variable\n",
    "pl_x = pl.iloc[:, 0:11]\n",
    "pl_y = pl.iloc[:, 12]\n",
    "\n",
    "df = pl\n",
    "\n",
    "# calculating the feature_importances_ of each attribute\n",
    "rfc = RandomForestClassifier()\n",
    "rfc.fit(pl_x, pl_y)\n",
    "\n",
    "rfe_importance = pd.DataFrame({\"feature_name\":pl_x.columns, \"Importance\":list(rfc.feature_importances_)})\n",
    "\n",
    "# printing feature_importances_ in descending order so that the attributes to keep can be selected easily\n",
    "print(rfe_importance.sort_values([\"Importance\"], ascending=False))\n"
   ]
  },
  {
   "cell_type": "markdown",
   "metadata": {},
   "source": [
    "## Normalization"
   ]
  },
  {
   "cell_type": "markdown",
   "metadata": {},
   "source": [
    "Attribute selected for normalization: **salary**"
   ]
  },
  {
   "cell_type": "code",
   "execution_count": 16,
   "metadata": {},
   "outputs": [
    {
     "name": "stdout",
     "output_type": "stream",
     "text": [
      "Before normalization:\n",
      "\tMin: 0.0\n",
      "\tMax: 940000.0\n",
      "\tMean: 198702.32558139536\n",
      "\n",
      "After normalization:\n",
      "\tMin: 0.0\n",
      "\tMax: 1.0\n",
      "\tMean: 0.21138545274616527\n"
     ]
    }
   ],
   "source": [
    "salary_data = df['salary']\n",
    "\n",
    "mean_salary = df['salary'].mean()\n",
    "max_salary = df['salary'].max()\n",
    "min_salary = df['salary'].min()\n",
    "print(f\"Before normalization:\")\n",
    "print(f\"\\tMin: {min_salary}\")\n",
    "print(f\"\\tMax: {max_salary}\")\n",
    "print(f\"\\tMean: {mean_salary}\")\n",
    "\n",
    "# Perform Min-Max normalization for the chosen attribute\n",
    "min_value = df['salary'].min()\n",
    "max_value = df['salary'].max()\n",
    "\n",
    "# Normalize the attribute and add it as a new column\n",
    "df['normalized_salary'] = (df['salary'] - min_value) / (max_value - min_value)\n",
    "\n",
    "# Remove the original attribute from the DataFrame\n",
    "df.drop(columns=['salary'], inplace=True)\n",
    "\n",
    "new_mean_salary = df['normalized_salary'].mean()\n",
    "new_min_salary = df['normalized_salary'].min()\n",
    "new_max_salary = df['normalized_salary'].max()\n",
    "print(f\"\\nAfter normalization:\")\n",
    "print(f\"\\tMin: {new_min_salary}\")\n",
    "print(f\"\\tMax: {new_max_salary}\")\n",
    "print(f\"\\tMean: {new_mean_salary}\")\n"
   ]
  }
 ],
 "metadata": {
  "kernelspec": {
   "display_name": "Python 3",
   "language": "python",
   "name": "python3"
  },
  "language_info": {
   "codemirror_mode": {
    "name": "ipython",
    "version": 3
   },
   "file_extension": ".py",
   "mimetype": "text/x-python",
   "name": "python",
   "nbconvert_exporter": "python",
   "pygments_lexer": "ipython3",
   "version": "3.11.3"
  }
 },
 "nbformat": 4,
 "nbformat_minor": 2
}
